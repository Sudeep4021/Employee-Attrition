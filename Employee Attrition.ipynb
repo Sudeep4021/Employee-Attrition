{
 "cells": [
  {
   "cell_type": "markdown",
   "metadata": {},
   "source": [
    "### Importing Libraries"
   ]
  },
  {
   "cell_type": "code",
   "execution_count": 265,
   "metadata": {},
   "outputs": [],
   "source": [
    "import pandas as pd\n",
    "import numpy as np\n",
    "import seaborn as sns\n",
    "import matplotlib.pyplot as plt\n",
    "import math\n",
    "\n",
    "from sklearn.linear_model import LinearRegression\n",
    "from sklearn.metrics import mean_squared_error"
   ]
  },
  {
   "cell_type": "markdown",
   "metadata": {},
   "source": [
    "### Loading Dataset "
   ]
  },
  {
   "cell_type": "code",
   "execution_count": 389,
   "metadata": {},
   "outputs": [],
   "source": [
    "dataframe = pd.read_csv(r'F:\\DS projects\\HackerRank_Project1\\Dataset\\Train.csv')\n",
    "test_data = pd.read_csv(r'F:\\DS projects\\HackerRank_Project1\\Dataset\\Test.csv')"
   ]
  },
  {
   "cell_type": "code",
   "execution_count": 390,
   "metadata": {},
   "outputs": [
    {
     "data": {
      "text/html": [
       "<div>\n",
       "<style scoped>\n",
       "    .dataframe tbody tr th:only-of-type {\n",
       "        vertical-align: middle;\n",
       "    }\n",
       "\n",
       "    .dataframe tbody tr th {\n",
       "        vertical-align: top;\n",
       "    }\n",
       "\n",
       "    .dataframe thead th {\n",
       "        text-align: right;\n",
       "    }\n",
       "</style>\n",
       "<table border=\"1\" class=\"dataframe\">\n",
       "  <thead>\n",
       "    <tr style=\"text-align: right;\">\n",
       "      <th></th>\n",
       "      <th>Employee_ID</th>\n",
       "      <th>Gender</th>\n",
       "      <th>Age</th>\n",
       "      <th>Education_Level</th>\n",
       "      <th>Relationship_Status</th>\n",
       "      <th>Hometown</th>\n",
       "      <th>Unit</th>\n",
       "      <th>Decision_skill_possess</th>\n",
       "      <th>Time_of_service</th>\n",
       "      <th>Time_since_promotion</th>\n",
       "      <th>...</th>\n",
       "      <th>Compensation_and_Benefits</th>\n",
       "      <th>Work_Life_balance</th>\n",
       "      <th>VAR1</th>\n",
       "      <th>VAR2</th>\n",
       "      <th>VAR3</th>\n",
       "      <th>VAR4</th>\n",
       "      <th>VAR5</th>\n",
       "      <th>VAR6</th>\n",
       "      <th>VAR7</th>\n",
       "      <th>Attrition_rate</th>\n",
       "    </tr>\n",
       "  </thead>\n",
       "  <tbody>\n",
       "    <tr>\n",
       "      <th>0</th>\n",
       "      <td>EID_23371</td>\n",
       "      <td>F</td>\n",
       "      <td>42.0</td>\n",
       "      <td>4</td>\n",
       "      <td>Married</td>\n",
       "      <td>Franklin</td>\n",
       "      <td>IT</td>\n",
       "      <td>Conceptual</td>\n",
       "      <td>4.0</td>\n",
       "      <td>4</td>\n",
       "      <td>...</td>\n",
       "      <td>type2</td>\n",
       "      <td>3.0</td>\n",
       "      <td>4</td>\n",
       "      <td>0.7516</td>\n",
       "      <td>1.8688</td>\n",
       "      <td>2.0</td>\n",
       "      <td>4</td>\n",
       "      <td>5</td>\n",
       "      <td>3</td>\n",
       "      <td>0.1841</td>\n",
       "    </tr>\n",
       "    <tr>\n",
       "      <th>1</th>\n",
       "      <td>EID_18000</td>\n",
       "      <td>M</td>\n",
       "      <td>24.0</td>\n",
       "      <td>3</td>\n",
       "      <td>Single</td>\n",
       "      <td>Springfield</td>\n",
       "      <td>Logistics</td>\n",
       "      <td>Analytical</td>\n",
       "      <td>5.0</td>\n",
       "      <td>4</td>\n",
       "      <td>...</td>\n",
       "      <td>type2</td>\n",
       "      <td>4.0</td>\n",
       "      <td>3</td>\n",
       "      <td>-0.9612</td>\n",
       "      <td>-0.4537</td>\n",
       "      <td>2.0</td>\n",
       "      <td>3</td>\n",
       "      <td>5</td>\n",
       "      <td>3</td>\n",
       "      <td>0.0670</td>\n",
       "    </tr>\n",
       "    <tr>\n",
       "      <th>2</th>\n",
       "      <td>EID_3891</td>\n",
       "      <td>F</td>\n",
       "      <td>58.0</td>\n",
       "      <td>3</td>\n",
       "      <td>Married</td>\n",
       "      <td>Clinton</td>\n",
       "      <td>Quality</td>\n",
       "      <td>Conceptual</td>\n",
       "      <td>27.0</td>\n",
       "      <td>3</td>\n",
       "      <td>...</td>\n",
       "      <td>type2</td>\n",
       "      <td>1.0</td>\n",
       "      <td>4</td>\n",
       "      <td>-0.9612</td>\n",
       "      <td>-0.4537</td>\n",
       "      <td>3.0</td>\n",
       "      <td>3</td>\n",
       "      <td>8</td>\n",
       "      <td>3</td>\n",
       "      <td>0.0851</td>\n",
       "    </tr>\n",
       "    <tr>\n",
       "      <th>3</th>\n",
       "      <td>EID_17492</td>\n",
       "      <td>F</td>\n",
       "      <td>26.0</td>\n",
       "      <td>3</td>\n",
       "      <td>Single</td>\n",
       "      <td>Lebanon</td>\n",
       "      <td>Human Resource Management</td>\n",
       "      <td>Behavioral</td>\n",
       "      <td>4.0</td>\n",
       "      <td>3</td>\n",
       "      <td>...</td>\n",
       "      <td>type2</td>\n",
       "      <td>1.0</td>\n",
       "      <td>3</td>\n",
       "      <td>-1.8176</td>\n",
       "      <td>-0.4537</td>\n",
       "      <td>NaN</td>\n",
       "      <td>3</td>\n",
       "      <td>7</td>\n",
       "      <td>3</td>\n",
       "      <td>0.0668</td>\n",
       "    </tr>\n",
       "    <tr>\n",
       "      <th>4</th>\n",
       "      <td>EID_22534</td>\n",
       "      <td>F</td>\n",
       "      <td>31.0</td>\n",
       "      <td>1</td>\n",
       "      <td>Married</td>\n",
       "      <td>Springfield</td>\n",
       "      <td>Logistics</td>\n",
       "      <td>Conceptual</td>\n",
       "      <td>5.0</td>\n",
       "      <td>4</td>\n",
       "      <td>...</td>\n",
       "      <td>type3</td>\n",
       "      <td>3.0</td>\n",
       "      <td>1</td>\n",
       "      <td>0.7516</td>\n",
       "      <td>-0.4537</td>\n",
       "      <td>2.0</td>\n",
       "      <td>2</td>\n",
       "      <td>8</td>\n",
       "      <td>2</td>\n",
       "      <td>0.1827</td>\n",
       "    </tr>\n",
       "  </tbody>\n",
       "</table>\n",
       "<p>5 rows × 24 columns</p>\n",
       "</div>"
      ],
      "text/plain": [
       "  Employee_ID Gender   Age  Education_Level Relationship_Status     Hometown  \\\n",
       "0   EID_23371      F  42.0                4             Married     Franklin   \n",
       "1   EID_18000      M  24.0                3              Single  Springfield   \n",
       "2    EID_3891      F  58.0                3             Married      Clinton   \n",
       "3   EID_17492      F  26.0                3              Single      Lebanon   \n",
       "4   EID_22534      F  31.0                1             Married  Springfield   \n",
       "\n",
       "                        Unit Decision_skill_possess  Time_of_service  \\\n",
       "0                         IT             Conceptual              4.0   \n",
       "1                  Logistics             Analytical              5.0   \n",
       "2                    Quality             Conceptual             27.0   \n",
       "3  Human Resource Management             Behavioral              4.0   \n",
       "4                  Logistics             Conceptual              5.0   \n",
       "\n",
       "   Time_since_promotion  ...  Compensation_and_Benefits  Work_Life_balance  \\\n",
       "0                     4  ...                      type2                3.0   \n",
       "1                     4  ...                      type2                4.0   \n",
       "2                     3  ...                      type2                1.0   \n",
       "3                     3  ...                      type2                1.0   \n",
       "4                     4  ...                      type3                3.0   \n",
       "\n",
       "   VAR1    VAR2    VAR3  VAR4  VAR5  VAR6  VAR7  Attrition_rate  \n",
       "0     4  0.7516  1.8688   2.0     4     5     3          0.1841  \n",
       "1     3 -0.9612 -0.4537   2.0     3     5     3          0.0670  \n",
       "2     4 -0.9612 -0.4537   3.0     3     8     3          0.0851  \n",
       "3     3 -1.8176 -0.4537   NaN     3     7     3          0.0668  \n",
       "4     1  0.7516 -0.4537   2.0     2     8     2          0.1827  \n",
       "\n",
       "[5 rows x 24 columns]"
      ]
     },
     "execution_count": 390,
     "metadata": {},
     "output_type": "execute_result"
    }
   ],
   "source": [
    "dataframe.head()"
   ]
  },
  {
   "cell_type": "code",
   "execution_count": 391,
   "metadata": {},
   "outputs": [
    {
     "data": {
      "text/html": [
       "<div>\n",
       "<style scoped>\n",
       "    .dataframe tbody tr th:only-of-type {\n",
       "        vertical-align: middle;\n",
       "    }\n",
       "\n",
       "    .dataframe tbody tr th {\n",
       "        vertical-align: top;\n",
       "    }\n",
       "\n",
       "    .dataframe thead th {\n",
       "        text-align: right;\n",
       "    }\n",
       "</style>\n",
       "<table border=\"1\" class=\"dataframe\">\n",
       "  <thead>\n",
       "    <tr style=\"text-align: right;\">\n",
       "      <th></th>\n",
       "      <th>Employee_ID</th>\n",
       "      <th>Gender</th>\n",
       "      <th>Age</th>\n",
       "      <th>Education_Level</th>\n",
       "      <th>Relationship_Status</th>\n",
       "      <th>Hometown</th>\n",
       "      <th>Unit</th>\n",
       "      <th>Decision_skill_possess</th>\n",
       "      <th>Time_of_service</th>\n",
       "      <th>Time_since_promotion</th>\n",
       "      <th>...</th>\n",
       "      <th>Pay_Scale</th>\n",
       "      <th>Compensation_and_Benefits</th>\n",
       "      <th>Work_Life_balance</th>\n",
       "      <th>VAR1</th>\n",
       "      <th>VAR2</th>\n",
       "      <th>VAR3</th>\n",
       "      <th>VAR4</th>\n",
       "      <th>VAR5</th>\n",
       "      <th>VAR6</th>\n",
       "      <th>VAR7</th>\n",
       "    </tr>\n",
       "  </thead>\n",
       "  <tbody>\n",
       "    <tr>\n",
       "      <th>0</th>\n",
       "      <td>EID_22713</td>\n",
       "      <td>F</td>\n",
       "      <td>32.0</td>\n",
       "      <td>5</td>\n",
       "      <td>Single</td>\n",
       "      <td>Springfield</td>\n",
       "      <td>R&amp;D</td>\n",
       "      <td>Conceptual</td>\n",
       "      <td>7.0</td>\n",
       "      <td>4</td>\n",
       "      <td>...</td>\n",
       "      <td>4.0</td>\n",
       "      <td>type2</td>\n",
       "      <td>1.0</td>\n",
       "      <td>3</td>\n",
       "      <td>-0.9612</td>\n",
       "      <td>-0.4537</td>\n",
       "      <td>2.0</td>\n",
       "      <td>1</td>\n",
       "      <td>8</td>\n",
       "      <td>4</td>\n",
       "    </tr>\n",
       "    <tr>\n",
       "      <th>1</th>\n",
       "      <td>EID_9658</td>\n",
       "      <td>M</td>\n",
       "      <td>65.0</td>\n",
       "      <td>2</td>\n",
       "      <td>Single</td>\n",
       "      <td>Lebanon</td>\n",
       "      <td>IT</td>\n",
       "      <td>Directive</td>\n",
       "      <td>41.0</td>\n",
       "      <td>2</td>\n",
       "      <td>...</td>\n",
       "      <td>1.0</td>\n",
       "      <td>type2</td>\n",
       "      <td>1.0</td>\n",
       "      <td>4</td>\n",
       "      <td>-0.9612</td>\n",
       "      <td>0.7075</td>\n",
       "      <td>1.0</td>\n",
       "      <td>2</td>\n",
       "      <td>8</td>\n",
       "      <td>2</td>\n",
       "    </tr>\n",
       "    <tr>\n",
       "      <th>2</th>\n",
       "      <td>EID_22203</td>\n",
       "      <td>M</td>\n",
       "      <td>52.0</td>\n",
       "      <td>3</td>\n",
       "      <td>Married</td>\n",
       "      <td>Springfield</td>\n",
       "      <td>Sales</td>\n",
       "      <td>Directive</td>\n",
       "      <td>21.0</td>\n",
       "      <td>3</td>\n",
       "      <td>...</td>\n",
       "      <td>8.0</td>\n",
       "      <td>type3</td>\n",
       "      <td>1.0</td>\n",
       "      <td>4</td>\n",
       "      <td>-0.1048</td>\n",
       "      <td>0.7075</td>\n",
       "      <td>2.0</td>\n",
       "      <td>1</td>\n",
       "      <td>9</td>\n",
       "      <td>3</td>\n",
       "    </tr>\n",
       "    <tr>\n",
       "      <th>3</th>\n",
       "      <td>EID_7652</td>\n",
       "      <td>M</td>\n",
       "      <td>50.0</td>\n",
       "      <td>5</td>\n",
       "      <td>Single</td>\n",
       "      <td>Washington</td>\n",
       "      <td>Marketing</td>\n",
       "      <td>Analytical</td>\n",
       "      <td>11.0</td>\n",
       "      <td>4</td>\n",
       "      <td>...</td>\n",
       "      <td>2.0</td>\n",
       "      <td>type0</td>\n",
       "      <td>4.0</td>\n",
       "      <td>3</td>\n",
       "      <td>-0.1048</td>\n",
       "      <td>0.7075</td>\n",
       "      <td>2.0</td>\n",
       "      <td>2</td>\n",
       "      <td>8</td>\n",
       "      <td>3</td>\n",
       "    </tr>\n",
       "    <tr>\n",
       "      <th>4</th>\n",
       "      <td>EID_6516</td>\n",
       "      <td>F</td>\n",
       "      <td>44.0</td>\n",
       "      <td>3</td>\n",
       "      <td>Married</td>\n",
       "      <td>Franklin</td>\n",
       "      <td>R&amp;D</td>\n",
       "      <td>Conceptual</td>\n",
       "      <td>12.0</td>\n",
       "      <td>4</td>\n",
       "      <td>...</td>\n",
       "      <td>2.0</td>\n",
       "      <td>type2</td>\n",
       "      <td>4.0</td>\n",
       "      <td>4</td>\n",
       "      <td>1.6081</td>\n",
       "      <td>0.7075</td>\n",
       "      <td>2.0</td>\n",
       "      <td>2</td>\n",
       "      <td>7</td>\n",
       "      <td>4</td>\n",
       "    </tr>\n",
       "  </tbody>\n",
       "</table>\n",
       "<p>5 rows × 23 columns</p>\n",
       "</div>"
      ],
      "text/plain": [
       "  Employee_ID Gender   Age  Education_Level Relationship_Status     Hometown  \\\n",
       "0   EID_22713      F  32.0                5              Single  Springfield   \n",
       "1    EID_9658      M  65.0                2              Single      Lebanon   \n",
       "2   EID_22203      M  52.0                3             Married  Springfield   \n",
       "3    EID_7652      M  50.0                5              Single   Washington   \n",
       "4    EID_6516      F  44.0                3             Married     Franklin   \n",
       "\n",
       "        Unit Decision_skill_possess  Time_of_service  Time_since_promotion  \\\n",
       "0        R&D             Conceptual              7.0                     4   \n",
       "1         IT              Directive             41.0                     2   \n",
       "2      Sales              Directive             21.0                     3   \n",
       "3  Marketing             Analytical             11.0                     4   \n",
       "4        R&D             Conceptual             12.0                     4   \n",
       "\n",
       "   ...  Pay_Scale  Compensation_and_Benefits  Work_Life_balance  VAR1    VAR2  \\\n",
       "0  ...        4.0                      type2                1.0     3 -0.9612   \n",
       "1  ...        1.0                      type2                1.0     4 -0.9612   \n",
       "2  ...        8.0                      type3                1.0     4 -0.1048   \n",
       "3  ...        2.0                      type0                4.0     3 -0.1048   \n",
       "4  ...        2.0                      type2                4.0     4  1.6081   \n",
       "\n",
       "     VAR3  VAR4  VAR5  VAR6  VAR7  \n",
       "0 -0.4537   2.0     1     8     4  \n",
       "1  0.7075   1.0     2     8     2  \n",
       "2  0.7075   2.0     1     9     3  \n",
       "3  0.7075   2.0     2     8     3  \n",
       "4  0.7075   2.0     2     7     4  \n",
       "\n",
       "[5 rows x 23 columns]"
      ]
     },
     "execution_count": 391,
     "metadata": {},
     "output_type": "execute_result"
    }
   ],
   "source": [
    "test_data.head()"
   ]
  },
  {
   "cell_type": "code",
   "execution_count": 392,
   "metadata": {},
   "outputs": [
    {
     "data": {
      "text/plain": [
       "Employee_ID                    0\n",
       "Gender                         0\n",
       "Age                          161\n",
       "Education_Level                0\n",
       "Relationship_Status            0\n",
       "Hometown                       0\n",
       "Unit                           0\n",
       "Decision_skill_possess         0\n",
       "Time_of_service               52\n",
       "Time_since_promotion           0\n",
       "growth_rate                    0\n",
       "Travel_Rate                    0\n",
       "Post_Level                     0\n",
       "Pay_Scale                      3\n",
       "Compensation_and_Benefits      0\n",
       "Work_Life_balance              5\n",
       "VAR1                           0\n",
       "VAR2                         217\n",
       "VAR3                           0\n",
       "VAR4                         298\n",
       "VAR5                           0\n",
       "VAR6                           0\n",
       "VAR7                           0\n",
       "dtype: int64"
      ]
     },
     "execution_count": 392,
     "metadata": {},
     "output_type": "execute_result"
    }
   ],
   "source": [
    "test_data.isnull().sum()"
   ]
  },
  {
   "cell_type": "markdown",
   "metadata": {},
   "source": [
    "#### Shape , Info and how many columns are present in the dataset"
   ]
  },
  {
   "cell_type": "code",
   "execution_count": 393,
   "metadata": {},
   "outputs": [
    {
     "data": {
      "text/plain": [
       "(7000, 24)"
      ]
     },
     "execution_count": 393,
     "metadata": {},
     "output_type": "execute_result"
    }
   ],
   "source": [
    "dataframe.shape"
   ]
  },
  {
   "cell_type": "code",
   "execution_count": 394,
   "metadata": {},
   "outputs": [
    {
     "data": {
      "text/plain": [
       "Index(['Employee_ID', 'Gender', 'Age', 'Education_Level',\n",
       "       'Relationship_Status', 'Hometown', 'Unit', 'Decision_skill_possess',\n",
       "       'Time_of_service', 'Time_since_promotion', 'growth_rate', 'Travel_Rate',\n",
       "       'Post_Level', 'Pay_Scale', 'Compensation_and_Benefits',\n",
       "       'Work_Life_balance', 'VAR1', 'VAR2', 'VAR3', 'VAR4', 'VAR5', 'VAR6',\n",
       "       'VAR7', 'Attrition_rate'],\n",
       "      dtype='object')"
      ]
     },
     "execution_count": 394,
     "metadata": {},
     "output_type": "execute_result"
    }
   ],
   "source": [
    "dataframe.columns"
   ]
  },
  {
   "cell_type": "code",
   "execution_count": 395,
   "metadata": {},
   "outputs": [
    {
     "name": "stdout",
     "output_type": "stream",
     "text": [
      "<class 'pandas.core.frame.DataFrame'>\n",
      "RangeIndex: 7000 entries, 0 to 6999\n",
      "Data columns (total 24 columns):\n",
      " #   Column                     Non-Null Count  Dtype  \n",
      "---  ------                     --------------  -----  \n",
      " 0   Employee_ID                7000 non-null   object \n",
      " 1   Gender                     7000 non-null   object \n",
      " 2   Age                        6588 non-null   float64\n",
      " 3   Education_Level            7000 non-null   int64  \n",
      " 4   Relationship_Status        7000 non-null   object \n",
      " 5   Hometown                   7000 non-null   object \n",
      " 6   Unit                       7000 non-null   object \n",
      " 7   Decision_skill_possess     7000 non-null   object \n",
      " 8   Time_of_service            6856 non-null   float64\n",
      " 9   Time_since_promotion       7000 non-null   int64  \n",
      " 10  growth_rate                7000 non-null   int64  \n",
      " 11  Travel_Rate                7000 non-null   int64  \n",
      " 12  Post_Level                 7000 non-null   int64  \n",
      " 13  Pay_Scale                  6991 non-null   float64\n",
      " 14  Compensation_and_Benefits  7000 non-null   object \n",
      " 15  Work_Life_balance          6989 non-null   float64\n",
      " 16  VAR1                       7000 non-null   int64  \n",
      " 17  VAR2                       6423 non-null   float64\n",
      " 18  VAR3                       7000 non-null   float64\n",
      " 19  VAR4                       6344 non-null   float64\n",
      " 20  VAR5                       7000 non-null   int64  \n",
      " 21  VAR6                       7000 non-null   int64  \n",
      " 22  VAR7                       7000 non-null   int64  \n",
      " 23  Attrition_rate             7000 non-null   float64\n",
      "dtypes: float64(8), int64(9), object(7)\n",
      "memory usage: 1.3+ MB\n"
     ]
    }
   ],
   "source": [
    "dataframe.info()"
   ]
  },
  {
   "cell_type": "markdown",
   "metadata": {},
   "source": [
    "### Checking for Outliers"
   ]
  },
  {
   "cell_type": "code",
   "execution_count": 396,
   "metadata": {},
   "outputs": [],
   "source": [
    "#Get all numerical variable\n",
    "def getNumericData(dataset):\n",
    "    numeric_var = [key for key in dict(dataset.dtypes)\n",
    "                   if dict(dataset.dtypes)[key]\n",
    "                       in ['float64','float32','int32','int64']]\n",
    "    return numeric_var\n",
    "\n",
    "\n",
    "#Get all Categorical Variable\n",
    "def getCategorical(dataset):\n",
    "    cat_var = [key for key in dict(dataset.dtypes)\n",
    "          if dict(dataset.dtypes)[key] in ['object']]\n",
    "    \n",
    "    return cat_var"
   ]
  },
  {
   "cell_type": "code",
   "execution_count": 397,
   "metadata": {},
   "outputs": [
    {
     "data": {
      "text/plain": [
       "['Age',\n",
       " 'Education_Level',\n",
       " 'Time_of_service',\n",
       " 'Time_since_promotion',\n",
       " 'growth_rate',\n",
       " 'Travel_Rate',\n",
       " 'Post_Level',\n",
       " 'Pay_Scale',\n",
       " 'Work_Life_balance',\n",
       " 'VAR1',\n",
       " 'VAR2',\n",
       " 'VAR3',\n",
       " 'VAR4',\n",
       " 'VAR5',\n",
       " 'VAR6',\n",
       " 'VAR7',\n",
       " 'Attrition_rate']"
      ]
     },
     "execution_count": 397,
     "metadata": {},
     "output_type": "execute_result"
    }
   ],
   "source": [
    "getNumericData(dataframe)"
   ]
  },
  {
   "cell_type": "code",
   "execution_count": 398,
   "metadata": {},
   "outputs": [
    {
     "data": {
      "text/plain": [
       "Age                     412\n",
       "Education_Level           0\n",
       "Time_of_service         144\n",
       "Time_since_promotion      0\n",
       "growth_rate               0\n",
       "Travel_Rate               0\n",
       "Post_Level                0\n",
       "Pay_Scale                 9\n",
       "Work_Life_balance        11\n",
       "VAR1                      0\n",
       "VAR2                    577\n",
       "VAR3                      0\n",
       "VAR4                    656\n",
       "VAR5                      0\n",
       "VAR6                      0\n",
       "VAR7                      0\n",
       "Attrition_rate            0\n",
       "dtype: int64"
      ]
     },
     "execution_count": 398,
     "metadata": {},
     "output_type": "execute_result"
    }
   ],
   "source": [
    "numeric_data.isnull().sum()"
   ]
  },
  {
   "cell_type": "code",
   "execution_count": 399,
   "metadata": {},
   "outputs": [
    {
     "data": {
      "text/html": [
       "<div>\n",
       "<style scoped>\n",
       "    .dataframe tbody tr th:only-of-type {\n",
       "        vertical-align: middle;\n",
       "    }\n",
       "\n",
       "    .dataframe tbody tr th {\n",
       "        vertical-align: top;\n",
       "    }\n",
       "\n",
       "    .dataframe thead th {\n",
       "        text-align: right;\n",
       "    }\n",
       "</style>\n",
       "<table border=\"1\" class=\"dataframe\">\n",
       "  <thead>\n",
       "    <tr style=\"text-align: right;\">\n",
       "      <th></th>\n",
       "      <th>Age</th>\n",
       "      <th>Education_Level</th>\n",
       "      <th>Time_of_service</th>\n",
       "      <th>Time_since_promotion</th>\n",
       "      <th>growth_rate</th>\n",
       "      <th>Travel_Rate</th>\n",
       "      <th>Post_Level</th>\n",
       "      <th>Pay_Scale</th>\n",
       "      <th>Work_Life_balance</th>\n",
       "      <th>VAR1</th>\n",
       "      <th>VAR2</th>\n",
       "      <th>VAR3</th>\n",
       "      <th>VAR4</th>\n",
       "      <th>VAR5</th>\n",
       "      <th>VAR6</th>\n",
       "      <th>VAR7</th>\n",
       "      <th>Attrition_rate</th>\n",
       "    </tr>\n",
       "  </thead>\n",
       "  <tbody>\n",
       "    <tr>\n",
       "      <th>count</th>\n",
       "      <td>6588.000000</td>\n",
       "      <td>7000.000000</td>\n",
       "      <td>6856.000000</td>\n",
       "      <td>7000.000000</td>\n",
       "      <td>7000.000000</td>\n",
       "      <td>7000.000000</td>\n",
       "      <td>7000.000000</td>\n",
       "      <td>6991.000000</td>\n",
       "      <td>6989.000000</td>\n",
       "      <td>7000.000000</td>\n",
       "      <td>6423.000000</td>\n",
       "      <td>7000.000000</td>\n",
       "      <td>6344.000000</td>\n",
       "      <td>7000.000000</td>\n",
       "      <td>7000.000000</td>\n",
       "      <td>7000.000000</td>\n",
       "      <td>7000.0</td>\n",
       "    </tr>\n",
       "    <tr>\n",
       "      <th>mean</th>\n",
       "      <td>39.622799</td>\n",
       "      <td>3.187857</td>\n",
       "      <td>13.385064</td>\n",
       "      <td>2.367143</td>\n",
       "      <td>47.064286</td>\n",
       "      <td>0.817857</td>\n",
       "      <td>2.798000</td>\n",
       "      <td>6.006294</td>\n",
       "      <td>2.387895</td>\n",
       "      <td>3.098571</td>\n",
       "      <td>-0.008126</td>\n",
       "      <td>-0.013606</td>\n",
       "      <td>1.891078</td>\n",
       "      <td>2.834143</td>\n",
       "      <td>7.101286</td>\n",
       "      <td>3.257000</td>\n",
       "      <td>0.0</td>\n",
       "    </tr>\n",
       "    <tr>\n",
       "      <th>std</th>\n",
       "      <td>13.606920</td>\n",
       "      <td>1.065102</td>\n",
       "      <td>10.364188</td>\n",
       "      <td>1.149395</td>\n",
       "      <td>15.761406</td>\n",
       "      <td>0.648205</td>\n",
       "      <td>1.163721</td>\n",
       "      <td>2.058435</td>\n",
       "      <td>1.122786</td>\n",
       "      <td>0.836377</td>\n",
       "      <td>0.989850</td>\n",
       "      <td>0.986933</td>\n",
       "      <td>0.529403</td>\n",
       "      <td>0.938945</td>\n",
       "      <td>1.164262</td>\n",
       "      <td>0.925319</td>\n",
       "      <td>0.0</td>\n",
       "    </tr>\n",
       "    <tr>\n",
       "      <th>min</th>\n",
       "      <td>19.000000</td>\n",
       "      <td>1.000000</td>\n",
       "      <td>0.000000</td>\n",
       "      <td>0.000000</td>\n",
       "      <td>20.000000</td>\n",
       "      <td>0.000000</td>\n",
       "      <td>1.000000</td>\n",
       "      <td>1.000000</td>\n",
       "      <td>1.000000</td>\n",
       "      <td>1.000000</td>\n",
       "      <td>-1.817600</td>\n",
       "      <td>-2.776200</td>\n",
       "      <td>1.000000</td>\n",
       "      <td>1.000000</td>\n",
       "      <td>5.000000</td>\n",
       "      <td>1.000000</td>\n",
       "      <td>0.0</td>\n",
       "    </tr>\n",
       "    <tr>\n",
       "      <th>25%</th>\n",
       "      <td>27.000000</td>\n",
       "      <td>3.000000</td>\n",
       "      <td>5.000000</td>\n",
       "      <td>1.000000</td>\n",
       "      <td>33.000000</td>\n",
       "      <td>0.000000</td>\n",
       "      <td>2.000000</td>\n",
       "      <td>5.000000</td>\n",
       "      <td>1.000000</td>\n",
       "      <td>3.000000</td>\n",
       "      <td>-0.961200</td>\n",
       "      <td>-0.453700</td>\n",
       "      <td>2.000000</td>\n",
       "      <td>2.000000</td>\n",
       "      <td>6.000000</td>\n",
       "      <td>3.000000</td>\n",
       "      <td>0.0</td>\n",
       "    </tr>\n",
       "    <tr>\n",
       "      <th>50%</th>\n",
       "      <td>37.000000</td>\n",
       "      <td>3.000000</td>\n",
       "      <td>10.000000</td>\n",
       "      <td>2.000000</td>\n",
       "      <td>47.000000</td>\n",
       "      <td>1.000000</td>\n",
       "      <td>3.000000</td>\n",
       "      <td>6.000000</td>\n",
       "      <td>2.000000</td>\n",
       "      <td>3.000000</td>\n",
       "      <td>-0.104800</td>\n",
       "      <td>-0.453700</td>\n",
       "      <td>2.000000</td>\n",
       "      <td>3.000000</td>\n",
       "      <td>7.000000</td>\n",
       "      <td>3.000000</td>\n",
       "      <td>0.0</td>\n",
       "    </tr>\n",
       "    <tr>\n",
       "      <th>75%</th>\n",
       "      <td>52.000000</td>\n",
       "      <td>4.000000</td>\n",
       "      <td>21.000000</td>\n",
       "      <td>3.000000</td>\n",
       "      <td>61.000000</td>\n",
       "      <td>1.000000</td>\n",
       "      <td>3.000000</td>\n",
       "      <td>8.000000</td>\n",
       "      <td>3.000000</td>\n",
       "      <td>3.000000</td>\n",
       "      <td>0.751600</td>\n",
       "      <td>0.707500</td>\n",
       "      <td>2.000000</td>\n",
       "      <td>3.000000</td>\n",
       "      <td>8.000000</td>\n",
       "      <td>4.000000</td>\n",
       "      <td>0.0</td>\n",
       "    </tr>\n",
       "    <tr>\n",
       "      <th>max</th>\n",
       "      <td>65.000000</td>\n",
       "      <td>5.000000</td>\n",
       "      <td>43.000000</td>\n",
       "      <td>4.000000</td>\n",
       "      <td>74.000000</td>\n",
       "      <td>2.000000</td>\n",
       "      <td>5.000000</td>\n",
       "      <td>10.000000</td>\n",
       "      <td>5.000000</td>\n",
       "      <td>5.000000</td>\n",
       "      <td>1.608100</td>\n",
       "      <td>1.868800</td>\n",
       "      <td>3.000000</td>\n",
       "      <td>5.000000</td>\n",
       "      <td>9.000000</td>\n",
       "      <td>5.000000</td>\n",
       "      <td>0.0</td>\n",
       "    </tr>\n",
       "  </tbody>\n",
       "</table>\n",
       "</div>"
      ],
      "text/plain": [
       "               Age  Education_Level  Time_of_service  Time_since_promotion  \\\n",
       "count  6588.000000      7000.000000      6856.000000           7000.000000   \n",
       "mean     39.622799         3.187857        13.385064              2.367143   \n",
       "std      13.606920         1.065102        10.364188              1.149395   \n",
       "min      19.000000         1.000000         0.000000              0.000000   \n",
       "25%      27.000000         3.000000         5.000000              1.000000   \n",
       "50%      37.000000         3.000000        10.000000              2.000000   \n",
       "75%      52.000000         4.000000        21.000000              3.000000   \n",
       "max      65.000000         5.000000        43.000000              4.000000   \n",
       "\n",
       "       growth_rate  Travel_Rate   Post_Level    Pay_Scale  Work_Life_balance  \\\n",
       "count  7000.000000  7000.000000  7000.000000  6991.000000        6989.000000   \n",
       "mean     47.064286     0.817857     2.798000     6.006294           2.387895   \n",
       "std      15.761406     0.648205     1.163721     2.058435           1.122786   \n",
       "min      20.000000     0.000000     1.000000     1.000000           1.000000   \n",
       "25%      33.000000     0.000000     2.000000     5.000000           1.000000   \n",
       "50%      47.000000     1.000000     3.000000     6.000000           2.000000   \n",
       "75%      61.000000     1.000000     3.000000     8.000000           3.000000   \n",
       "max      74.000000     2.000000     5.000000    10.000000           5.000000   \n",
       "\n",
       "              VAR1         VAR2         VAR3         VAR4         VAR5  \\\n",
       "count  7000.000000  6423.000000  7000.000000  6344.000000  7000.000000   \n",
       "mean      3.098571    -0.008126    -0.013606     1.891078     2.834143   \n",
       "std       0.836377     0.989850     0.986933     0.529403     0.938945   \n",
       "min       1.000000    -1.817600    -2.776200     1.000000     1.000000   \n",
       "25%       3.000000    -0.961200    -0.453700     2.000000     2.000000   \n",
       "50%       3.000000    -0.104800    -0.453700     2.000000     3.000000   \n",
       "75%       3.000000     0.751600     0.707500     2.000000     3.000000   \n",
       "max       5.000000     1.608100     1.868800     3.000000     5.000000   \n",
       "\n",
       "              VAR6         VAR7  Attrition_rate  \n",
       "count  7000.000000  7000.000000          7000.0  \n",
       "mean      7.101286     3.257000             0.0  \n",
       "std       1.164262     0.925319             0.0  \n",
       "min       5.000000     1.000000             0.0  \n",
       "25%       6.000000     3.000000             0.0  \n",
       "50%       7.000000     3.000000             0.0  \n",
       "75%       8.000000     4.000000             0.0  \n",
       "max       9.000000     5.000000             0.0  "
      ]
     },
     "execution_count": 399,
     "metadata": {},
     "output_type": "execute_result"
    }
   ],
   "source": [
    "numeric_data.describe()"
   ]
  },
  {
   "cell_type": "code",
   "execution_count": 400,
   "metadata": {},
   "outputs": [
    {
     "data": {
      "image/png": "[encoded data removed]",
      "text/plain": [
       "<Figure size 1080x720 with 20 Axes>"
      ]
     },
     "metadata": {
      "needs_background": "light"
     },
     "output_type": "display_data"
    }
   ],
   "source": [
    "numeric_data.hist(figsize=(15,10));\n",
    "plt.tight_layout()"
   ]
  },
  {
   "cell_type": "code",
   "execution_count": 401,
   "metadata": {},
   "outputs": [
    {
     "data": {
      "text/plain": [
       "Text(0, 0.5, 'Attrition_rate')"
      ]
     },
     "execution_count": 401,
     "metadata": {},
     "output_type": "execute_result"
    },
    {
     "data": {
      "image/png": "[encoded data removed]",
      "text/plain": [
       "<Figure size 432x288 with 1 Axes>"
      ]
     },
     "metadata": {
      "needs_background": "light"
     },
     "output_type": "display_data"
    }
   ],
   "source": [
    "fig = dataframe.boxplot(column='Attrition_rate')\n",
    "fig.set_title('')\n",
    "fig.set_ylabel('Attrition_rate')"
   ]
  },
  {
   "cell_type": "code",
   "execution_count": 402,
   "metadata": {},
   "outputs": [
    {
     "data": {
      "text/plain": [
       "count    7000.000000\n",
       "mean        0.189376\n",
       "std         0.185753\n",
       "min         0.000000\n",
       "25%         0.070400\n",
       "50%         0.142650\n",
       "75%         0.235000\n",
       "max         0.995900\n",
       "Name: Attrition_rate, dtype: float64"
      ]
     },
     "execution_count": 402,
     "metadata": {},
     "output_type": "execute_result"
    }
   ],
   "source": [
    "# 25%, 50% and 75% in the output below indicate the\n",
    "# 25th quantile, median and 75th quantile respectively\n",
    "\n",
    "dataframe.Attrition_rate.describe()"
   ]
  },
  {
   "cell_type": "markdown",
   "metadata": {},
   "source": [
    "#### Checking for the outliers in VAR4 and VAR2"
   ]
  },
  {
   "cell_type": "code",
   "execution_count": 403,
   "metadata": {},
   "outputs": [
    {
     "name": "stdout",
     "output_type": "stream",
     "text": [
      "VAR2 2.0 2.0 0.0\n",
      "VAR4 2.0 2.0 0.0\n"
     ]
    }
   ],
   "source": [
    "# Let's calculate the upper and lower boundaries\n",
    "# to identify outliers according\n",
    "# to interquantile proximity rule\n",
    "\n",
    "IQR1 = dataframe.VAR4.quantile(0.75) - dataframe.VAR4.quantile(0.25)\n",
    "\n",
    "Lower_fence1 = dataframe.VAR4.quantile(0.25) - (IQR * 1.5)\n",
    "Upper_fence1 = dataframe.VAR4.quantile(0.75) + (IQR * 1.5)\n",
    "\n",
    "\n",
    "IQR2 = dataframe.VAR4.quantile(0.75) - dataframe.VAR4.quantile(0.25)\n",
    "\n",
    "Lower_fence2 = dataframe.VAR4.quantile(0.25) - (IQR * 1.5)\n",
    "Upper_fence2 = dataframe.VAR4.quantile(0.75) + (IQR * 1.5)\n",
    "\n",
    "print(\"VAR2\",Upper_fence2, Lower_fence2, IQR2)\n",
    "print(\"VAR4\",Upper_fence1, Lower_fence1, IQR1)"
   ]
  },
  {
   "cell_type": "code",
   "execution_count": 404,
   "metadata": {},
   "outputs": [
    {
     "name": "stdout",
     "output_type": "stream",
     "text": [
      "VAR2 2.0 2.0 0.0\n",
      "VAR4 2.0 2.0 0.0\n"
     ]
    }
   ],
   "source": [
    "# And if we are looking at really extreme values\n",
    "# using the interquantile proximity rule\n",
    "\n",
    "IQR = dataframe.VAR4.quantile(0.75) - dataframe.VAR4.quantile(0.25)\n",
    "\n",
    "Lower_fence = dataframe.VAR4.quantile(0.25) - (IQR * 3)\n",
    "Upper_fence = dataframe.VAR4.quantile(0.75) + (IQR * 3)\n",
    "\n",
    "\n",
    "IQR2 = dataframe.VAR4.quantile(0.75) - dataframe.VAR4.quantile(0.25)\n",
    "\n",
    "Lower_fence2 = dataframe.VAR4.quantile(0.25) - (IQR * 3)\n",
    "Upper_fence2 = dataframe.VAR4.quantile(0.75) + (IQR * 3)\n",
    "\n",
    "\n",
    "print(\"VAR2\",Upper_fence2, Lower_fence2, IQR2)\n",
    "print(\"VAR4\",Upper_fence, Lower_fence, IQR)"
   ]
  },
  {
   "cell_type": "markdown",
   "metadata": {},
   "source": [
    "### Checking Missing Values"
   ]
  },
  {
   "cell_type": "code",
   "execution_count": 405,
   "metadata": {},
   "outputs": [],
   "source": [
    "def missing_percentage(df): \n",
    "    \n",
    "    missing_total = df.isnull().sum().sort_values(ascending = False)[df.isnull().sum().sort_values(ascending = False) != 0]\n",
    "    percent = round(df.isnull().sum().sort_values(ascending = False)/len(df)*100,2)[round(df.isnull().sum().sort_values(ascending = False)/len(df)*100,2) != 0]\n",
    "    return pd.concat([missing_total, percent], axis=1, keys=['Missing_Total','Percent'])"
   ]
  },
  {
   "cell_type": "code",
   "execution_count": 406,
   "metadata": {},
   "outputs": [
    {
     "data": {
      "text/html": [
       "<div>\n",
       "<style scoped>\n",
       "    .dataframe tbody tr th:only-of-type {\n",
       "        vertical-align: middle;\n",
       "    }\n",
       "\n",
       "    .dataframe tbody tr th {\n",
       "        vertical-align: top;\n",
       "    }\n",
       "\n",
       "    .dataframe thead th {\n",
       "        text-align: right;\n",
       "    }\n",
       "</style>\n",
       "<table border=\"1\" class=\"dataframe\">\n",
       "  <thead>\n",
       "    <tr style=\"text-align: right;\">\n",
       "      <th></th>\n",
       "      <th>Missing_Total</th>\n",
       "      <th>Percent</th>\n",
       "    </tr>\n",
       "  </thead>\n",
       "  <tbody>\n",
       "    <tr>\n",
       "      <th>VAR4</th>\n",
       "      <td>656</td>\n",
       "      <td>9.37</td>\n",
       "    </tr>\n",
       "    <tr>\n",
       "      <th>VAR2</th>\n",
       "      <td>577</td>\n",
       "      <td>8.24</td>\n",
       "    </tr>\n",
       "    <tr>\n",
       "      <th>Age</th>\n",
       "      <td>412</td>\n",
       "      <td>5.89</td>\n",
       "    </tr>\n",
       "    <tr>\n",
       "      <th>Time_of_service</th>\n",
       "      <td>144</td>\n",
       "      <td>2.06</td>\n",
       "    </tr>\n",
       "    <tr>\n",
       "      <th>Work_Life_balance</th>\n",
       "      <td>11</td>\n",
       "      <td>0.16</td>\n",
       "    </tr>\n",
       "    <tr>\n",
       "      <th>Pay_Scale</th>\n",
       "      <td>9</td>\n",
       "      <td>0.13</td>\n",
       "    </tr>\n",
       "  </tbody>\n",
       "</table>\n",
       "</div>"
      ],
      "text/plain": [
       "                   Missing_Total  Percent\n",
       "VAR4                         656     9.37\n",
       "VAR2                         577     8.24\n",
       "Age                          412     5.89\n",
       "Time_of_service              144     2.06\n",
       "Work_Life_balance             11     0.16\n",
       "Pay_Scale                      9     0.13"
      ]
     },
     "execution_count": 406,
     "metadata": {},
     "output_type": "execute_result"
    }
   ],
   "source": [
    "missing_percentage(dataframe)"
   ]
  },
  {
   "cell_type": "markdown",
   "metadata": {},
   "source": [
    "I knowingly took VAR2 and VAR4 for outlier test because it has highest number of missing value.\n",
    "\n",
    "VAR4 contains 9 %, VAR2 contains 8% and Age contains 5% of missing data. For simplicity,rest will be drop"
   ]
  },
  {
   "cell_type": "code",
   "execution_count": 407,
   "metadata": {},
   "outputs": [],
   "source": [
    "dataframe['VAR4'] = dataframe['VAR4'].fillna(0)\n",
    "dataframe['VAR2'] = dataframe['VAR2'].fillna(0)\n",
    "dataframe['Age'] = dataframe['Age'].fillna(0)\n",
    "\n",
    "# I have done this because, these columns are filled with some other variables which was a bit difficult to drop the columns\n",
    "dataframe['Time_of_service'] = dataframe['Time_of_service'].fillna(\"NA\")\n",
    "dataframe['Work_Life_balance'] = dataframe['Work_Life_balance'].fillna(\"NA\")\n",
    "dataframe['Pay_Scale'] = dataframe['Pay_Scale'].fillna(\"NA\")"
   ]
  },
  {
   "cell_type": "markdown",
   "metadata": {},
   "source": [
    "#### so there are less missing value which we can easliy remove"
   ]
  },
  {
   "cell_type": "code",
   "execution_count": 408,
   "metadata": {},
   "outputs": [],
   "source": [
    "dataframe.dropna(how = 'all', inplace=True)"
   ]
  },
  {
   "cell_type": "code",
   "execution_count": 409,
   "metadata": {},
   "outputs": [
    {
     "data": {
      "text/html": [
       "<div>\n",
       "<style scoped>\n",
       "    .dataframe tbody tr th:only-of-type {\n",
       "        vertical-align: middle;\n",
       "    }\n",
       "\n",
       "    .dataframe tbody tr th {\n",
       "        vertical-align: top;\n",
       "    }\n",
       "\n",
       "    .dataframe thead th {\n",
       "        text-align: right;\n",
       "    }\n",
       "</style>\n",
       "<table border=\"1\" class=\"dataframe\">\n",
       "  <thead>\n",
       "    <tr style=\"text-align: right;\">\n",
       "      <th></th>\n",
       "      <th>Missing_Total</th>\n",
       "      <th>Percent</th>\n",
       "    </tr>\n",
       "  </thead>\n",
       "  <tbody>\n",
       "  </tbody>\n",
       "</table>\n",
       "</div>"
      ],
      "text/plain": [
       "Empty DataFrame\n",
       "Columns: [Missing_Total, Percent]\n",
       "Index: []"
      ]
     },
     "execution_count": 409,
     "metadata": {},
     "output_type": "execute_result"
    }
   ],
   "source": [
    "missing_percentage(dataframe)"
   ]
  },
  {
   "cell_type": "markdown",
   "metadata": {},
   "source": [
    "### Perfect!"
   ]
  },
  {
   "cell_type": "markdown",
   "metadata": {},
   "source": [
    "### Observations so far :\n",
    "\n",
    "Dataset is a mix of string and integer values.\n",
    "\n",
    "First we will check the Multi-collinearity between them so that it will be eay for us to decide to drop the missing value\n",
    "or fill it."
   ]
  },
  {
   "cell_type": "code",
   "execution_count": 410,
   "metadata": {},
   "outputs": [],
   "source": [
    "correlation = dataframe[['Age', 'Education_Level', 'Time_of_service', 'Time_since_promotion', 'growth_rate', 'Travel_Rate', 'Post_Level', 'Work_Life_balance', 'VAR1', 'VAR2', 'VAR3', 'VAR4', 'VAR5', 'VAR6', 'VAR7', 'Attrition_rate']].corr()"
   ]
  },
  {
   "cell_type": "code",
   "execution_count": 411,
   "metadata": {},
   "outputs": [
    {
     "data": {
      "text/plain": [
       "<matplotlib.axes._subplots.AxesSubplot at 0x1174cd98940>"
      ]
     },
     "execution_count": 411,
     "metadata": {},
     "output_type": "execute_result"
    },
    {
     "data": {
      "image/png": "[encoded data removed]",
      "text/plain": [
       "<Figure size 432x288 with 2 Axes>"
      ]
     },
     "metadata": {
      "needs_background": "light"
     },
     "output_type": "display_data"
    }
   ],
   "source": [
    "sns.heatmap(correlation, \n",
    "        xticklabels=correlation.columns,\n",
    "        yticklabels=correlation.columns)"
   ]
  },
  {
   "cell_type": "markdown",
   "metadata": {},
   "source": [
    "#### So there is no correlation between the features of this dataset"
   ]
  },
  {
   "cell_type": "code",
   "execution_count": 412,
   "metadata": {},
   "outputs": [
    {
     "data": {
      "text/plain": [
       "['Employee_ID',\n",
       " 'Gender',\n",
       " 'Relationship_Status',\n",
       " 'Hometown',\n",
       " 'Unit',\n",
       " 'Decision_skill_possess',\n",
       " 'Time_of_service',\n",
       " 'Pay_Scale',\n",
       " 'Compensation_and_Benefits',\n",
       " 'Work_Life_balance']"
      ]
     },
     "execution_count": 412,
     "metadata": {},
     "output_type": "execute_result"
    }
   ],
   "source": [
    "getCategorical(dataframe)"
   ]
  },
  {
   "cell_type": "markdown",
   "metadata": {},
   "source": [
    "#### There are some category which are unnecessary lets remove it"
   ]
  },
  {
   "cell_type": "code",
   "execution_count": 413,
   "metadata": {},
   "outputs": [],
   "source": [
    "dataframe.drop(['Employee_ID', 'Hometown'], axis = 1, inplace = True)"
   ]
  },
  {
   "cell_type": "code",
   "execution_count": 414,
   "metadata": {},
   "outputs": [
    {
     "data": {
      "text/html": [
       "<div>\n",
       "<style scoped>\n",
       "    .dataframe tbody tr th:only-of-type {\n",
       "        vertical-align: middle;\n",
       "    }\n",
       "\n",
       "    .dataframe tbody tr th {\n",
       "        vertical-align: top;\n",
       "    }\n",
       "\n",
       "    .dataframe thead th {\n",
       "        text-align: right;\n",
       "    }\n",
       "</style>\n",
       "<table border=\"1\" class=\"dataframe\">\n",
       "  <thead>\n",
       "    <tr style=\"text-align: right;\">\n",
       "      <th></th>\n",
       "      <th>Gender</th>\n",
       "      <th>Age</th>\n",
       "      <th>Education_Level</th>\n",
       "      <th>Relationship_Status</th>\n",
       "      <th>Unit</th>\n",
       "      <th>Decision_skill_possess</th>\n",
       "      <th>Time_of_service</th>\n",
       "      <th>Time_since_promotion</th>\n",
       "      <th>growth_rate</th>\n",
       "      <th>Travel_Rate</th>\n",
       "      <th>...</th>\n",
       "      <th>Compensation_and_Benefits</th>\n",
       "      <th>Work_Life_balance</th>\n",
       "      <th>VAR1</th>\n",
       "      <th>VAR2</th>\n",
       "      <th>VAR3</th>\n",
       "      <th>VAR4</th>\n",
       "      <th>VAR5</th>\n",
       "      <th>VAR6</th>\n",
       "      <th>VAR7</th>\n",
       "      <th>Attrition_rate</th>\n",
       "    </tr>\n",
       "  </thead>\n",
       "  <tbody>\n",
       "    <tr>\n",
       "      <th>0</th>\n",
       "      <td>F</td>\n",
       "      <td>42.0</td>\n",
       "      <td>4</td>\n",
       "      <td>Married</td>\n",
       "      <td>IT</td>\n",
       "      <td>Conceptual</td>\n",
       "      <td>4</td>\n",
       "      <td>4</td>\n",
       "      <td>33</td>\n",
       "      <td>1</td>\n",
       "      <td>...</td>\n",
       "      <td>type2</td>\n",
       "      <td>3</td>\n",
       "      <td>4</td>\n",
       "      <td>0.7516</td>\n",
       "      <td>1.8688</td>\n",
       "      <td>2.0</td>\n",
       "      <td>4</td>\n",
       "      <td>5</td>\n",
       "      <td>3</td>\n",
       "      <td>0.1841</td>\n",
       "    </tr>\n",
       "    <tr>\n",
       "      <th>1</th>\n",
       "      <td>M</td>\n",
       "      <td>24.0</td>\n",
       "      <td>3</td>\n",
       "      <td>Single</td>\n",
       "      <td>Logistics</td>\n",
       "      <td>Analytical</td>\n",
       "      <td>5</td>\n",
       "      <td>4</td>\n",
       "      <td>36</td>\n",
       "      <td>0</td>\n",
       "      <td>...</td>\n",
       "      <td>type2</td>\n",
       "      <td>4</td>\n",
       "      <td>3</td>\n",
       "      <td>-0.9612</td>\n",
       "      <td>-0.4537</td>\n",
       "      <td>2.0</td>\n",
       "      <td>3</td>\n",
       "      <td>5</td>\n",
       "      <td>3</td>\n",
       "      <td>0.0670</td>\n",
       "    </tr>\n",
       "    <tr>\n",
       "      <th>2</th>\n",
       "      <td>F</td>\n",
       "      <td>58.0</td>\n",
       "      <td>3</td>\n",
       "      <td>Married</td>\n",
       "      <td>Quality</td>\n",
       "      <td>Conceptual</td>\n",
       "      <td>27</td>\n",
       "      <td>3</td>\n",
       "      <td>51</td>\n",
       "      <td>0</td>\n",
       "      <td>...</td>\n",
       "      <td>type2</td>\n",
       "      <td>1</td>\n",
       "      <td>4</td>\n",
       "      <td>-0.9612</td>\n",
       "      <td>-0.4537</td>\n",
       "      <td>3.0</td>\n",
       "      <td>3</td>\n",
       "      <td>8</td>\n",
       "      <td>3</td>\n",
       "      <td>0.0851</td>\n",
       "    </tr>\n",
       "    <tr>\n",
       "      <th>3</th>\n",
       "      <td>F</td>\n",
       "      <td>26.0</td>\n",
       "      <td>3</td>\n",
       "      <td>Single</td>\n",
       "      <td>Human Resource Management</td>\n",
       "      <td>Behavioral</td>\n",
       "      <td>4</td>\n",
       "      <td>3</td>\n",
       "      <td>56</td>\n",
       "      <td>1</td>\n",
       "      <td>...</td>\n",
       "      <td>type2</td>\n",
       "      <td>1</td>\n",
       "      <td>3</td>\n",
       "      <td>-1.8176</td>\n",
       "      <td>-0.4537</td>\n",
       "      <td>0.0</td>\n",
       "      <td>3</td>\n",
       "      <td>7</td>\n",
       "      <td>3</td>\n",
       "      <td>0.0668</td>\n",
       "    </tr>\n",
       "    <tr>\n",
       "      <th>4</th>\n",
       "      <td>F</td>\n",
       "      <td>31.0</td>\n",
       "      <td>1</td>\n",
       "      <td>Married</td>\n",
       "      <td>Logistics</td>\n",
       "      <td>Conceptual</td>\n",
       "      <td>5</td>\n",
       "      <td>4</td>\n",
       "      <td>62</td>\n",
       "      <td>1</td>\n",
       "      <td>...</td>\n",
       "      <td>type3</td>\n",
       "      <td>3</td>\n",
       "      <td>1</td>\n",
       "      <td>0.7516</td>\n",
       "      <td>-0.4537</td>\n",
       "      <td>2.0</td>\n",
       "      <td>2</td>\n",
       "      <td>8</td>\n",
       "      <td>2</td>\n",
       "      <td>0.1827</td>\n",
       "    </tr>\n",
       "  </tbody>\n",
       "</table>\n",
       "<p>5 rows × 22 columns</p>\n",
       "</div>"
      ],
      "text/plain": [
       "  Gender   Age  Education_Level Relationship_Status  \\\n",
       "0      F  42.0                4             Married   \n",
       "1      M  24.0                3              Single   \n",
       "2      F  58.0                3             Married   \n",
       "3      F  26.0                3              Single   \n",
       "4      F  31.0                1             Married   \n",
       "\n",
       "                        Unit Decision_skill_possess Time_of_service  \\\n",
       "0                         IT             Conceptual               4   \n",
       "1                  Logistics             Analytical               5   \n",
       "2                    Quality             Conceptual              27   \n",
       "3  Human Resource Management             Behavioral               4   \n",
       "4                  Logistics             Conceptual               5   \n",
       "\n",
       "   Time_since_promotion  growth_rate  Travel_Rate  ...  \\\n",
       "0                     4           33            1  ...   \n",
       "1                     4           36            0  ...   \n",
       "2                     3           51            0  ...   \n",
       "3                     3           56            1  ...   \n",
       "4                     4           62            1  ...   \n",
       "\n",
       "   Compensation_and_Benefits Work_Life_balance VAR1    VAR2    VAR3  VAR4  \\\n",
       "0                      type2                 3    4  0.7516  1.8688   2.0   \n",
       "1                      type2                 4    3 -0.9612 -0.4537   2.0   \n",
       "2                      type2                 1    4 -0.9612 -0.4537   3.0   \n",
       "3                      type2                 1    3 -1.8176 -0.4537   0.0   \n",
       "4                      type3                 3    1  0.7516 -0.4537   2.0   \n",
       "\n",
       "   VAR5  VAR6  VAR7  Attrition_rate  \n",
       "0     4     5     3          0.1841  \n",
       "1     3     5     3          0.0670  \n",
       "2     3     8     3          0.0851  \n",
       "3     3     7     3          0.0668  \n",
       "4     2     8     2          0.1827  \n",
       "\n",
       "[5 rows x 22 columns]"
      ]
     },
     "execution_count": 414,
     "metadata": {},
     "output_type": "execute_result"
    }
   ],
   "source": [
    "dataframe.head()"
   ]
  },
  {
   "cell_type": "markdown",
   "metadata": {},
   "source": [
    "### Lets Encode Categorical data"
   ]
  },
  {
   "cell_type": "code",
   "execution_count": 415,
   "metadata": {},
   "outputs": [
    {
     "name": "stdout",
     "output_type": "stream",
     "text": [
      "Shape  (7000, 93)\n"
     ]
    }
   ],
   "source": [
    "# one hot encoding\n",
    "\n",
    "data_prep = pd.get_dummies(dataframe, drop_first=True)\n",
    "print(\"Shape \", data_prep.shape)"
   ]
  },
  {
   "cell_type": "markdown",
   "metadata": {},
   "source": [
    "### Split the data to Train and Test set\n",
    "### Evaluate RMSE "
   ]
  },
  {
   "cell_type": "code",
   "execution_count": 416,
   "metadata": {
    "scrolled": true
   },
   "outputs": [],
   "source": [
    "y = data_prep[['Attrition_rate']]\n",
    "x = data_prep.drop(['Attrition_rate'], axis = 1)\n",
    "\n",
    "#Creating training set of 70%\n",
    "tr_size = 0.7 * len(x)\n",
    "tr_size = int(tr_size)\n",
    "\n",
    "X_train = x.values[0 : tr_size]\n",
    "X_test = x.values[tr_size : len(x)]\n",
    "\n",
    "Y_train = y.values[0 : tr_size]\n",
    "Y_test = y.values[tr_size : len(y)]\n",
    "\n",
    "\n",
    "std_reg = LinearRegression()\n",
    "std_reg.fit(X_train, Y_train)\n",
    "\n",
    "r2_train = std_reg.score(X_train, Y_train)\n",
    "r2_test = std_reg.score(X_test, Y_test)\n",
    "\n",
    "# Create Y predict\n",
    "Y_predict = std_reg.predict(X_test)\n",
    "\n",
    "rmse = math.sqrt(mean_squared_error(Y_test, Y_predict))"
   ]
  },
  {
   "cell_type": "code",
   "execution_count": 417,
   "metadata": {},
   "outputs": [
    {
     "name": "stdout",
     "output_type": "stream",
     "text": [
      "Root Mean Square Error-  0.1942509667115685\n"
     ]
    }
   ],
   "source": [
    "print(\"Root Mean Square Error- \", rmse)"
   ]
  },
  {
   "cell_type": "markdown",
   "metadata": {},
   "source": [
    "### Lets work on Test Dataset"
   ]
  },
  {
   "cell_type": "code",
   "execution_count": 418,
   "metadata": {},
   "outputs": [
    {
     "data": {
      "text/html": [
       "<div>\n",
       "<style scoped>\n",
       "    .dataframe tbody tr th:only-of-type {\n",
       "        vertical-align: middle;\n",
       "    }\n",
       "\n",
       "    .dataframe tbody tr th {\n",
       "        vertical-align: top;\n",
       "    }\n",
       "\n",
       "    .dataframe thead th {\n",
       "        text-align: right;\n",
       "    }\n",
       "</style>\n",
       "<table border=\"1\" class=\"dataframe\">\n",
       "  <thead>\n",
       "    <tr style=\"text-align: right;\">\n",
       "      <th></th>\n",
       "      <th>Missing_Total</th>\n",
       "      <th>Percent</th>\n",
       "    </tr>\n",
       "  </thead>\n",
       "  <tbody>\n",
       "    <tr>\n",
       "      <th>VAR4</th>\n",
       "      <td>298</td>\n",
       "      <td>9.93</td>\n",
       "    </tr>\n",
       "    <tr>\n",
       "      <th>VAR2</th>\n",
       "      <td>217</td>\n",
       "      <td>7.23</td>\n",
       "    </tr>\n",
       "    <tr>\n",
       "      <th>Age</th>\n",
       "      <td>161</td>\n",
       "      <td>5.37</td>\n",
       "    </tr>\n",
       "    <tr>\n",
       "      <th>Time_of_service</th>\n",
       "      <td>52</td>\n",
       "      <td>1.73</td>\n",
       "    </tr>\n",
       "    <tr>\n",
       "      <th>Work_Life_balance</th>\n",
       "      <td>5</td>\n",
       "      <td>0.17</td>\n",
       "    </tr>\n",
       "    <tr>\n",
       "      <th>Pay_Scale</th>\n",
       "      <td>3</td>\n",
       "      <td>0.10</td>\n",
       "    </tr>\n",
       "  </tbody>\n",
       "</table>\n",
       "</div>"
      ],
      "text/plain": [
       "                   Missing_Total  Percent\n",
       "VAR4                         298     9.93\n",
       "VAR2                         217     7.23\n",
       "Age                          161     5.37\n",
       "Time_of_service               52     1.73\n",
       "Work_Life_balance              5     0.17\n",
       "Pay_Scale                      3     0.10"
      ]
     },
     "execution_count": 418,
     "metadata": {},
     "output_type": "execute_result"
    }
   ],
   "source": [
    "missing_percentage(test_data)"
   ]
  },
  {
   "cell_type": "code",
   "execution_count": 419,
   "metadata": {},
   "outputs": [],
   "source": [
    "test_data['VAR4'] = test_data['VAR4'].fillna(0)\n",
    "test_data['VAR2'] = test_data['VAR2'].fillna(0)\n",
    "test_data['Age'] = test_data['Age'].fillna(0)\n",
    "\n",
    "# I have done this because, these columns are filled with some other variables which was a bit difficult to drop the columns\n",
    "test_data['Time_of_service'] = test_data['Time_of_service'].fillna(\"NA\")\n",
    "test_data['Work_Life_balance'] = test_data['Work_Life_balance'].fillna(\"NA\")\n",
    "test_data['Pay_Scale'] = test_data['Pay_Scale'].fillna(\"NA\")"
   ]
  },
  {
   "cell_type": "code",
   "execution_count": 420,
   "metadata": {},
   "outputs": [
    {
     "data": {
      "text/html": [
       "<div>\n",
       "<style scoped>\n",
       "    .dataframe tbody tr th:only-of-type {\n",
       "        vertical-align: middle;\n",
       "    }\n",
       "\n",
       "    .dataframe tbody tr th {\n",
       "        vertical-align: top;\n",
       "    }\n",
       "\n",
       "    .dataframe thead th {\n",
       "        text-align: right;\n",
       "    }\n",
       "</style>\n",
       "<table border=\"1\" class=\"dataframe\">\n",
       "  <thead>\n",
       "    <tr style=\"text-align: right;\">\n",
       "      <th></th>\n",
       "      <th>Missing_Total</th>\n",
       "      <th>Percent</th>\n",
       "    </tr>\n",
       "  </thead>\n",
       "  <tbody>\n",
       "  </tbody>\n",
       "</table>\n",
       "</div>"
      ],
      "text/plain": [
       "Empty DataFrame\n",
       "Columns: [Missing_Total, Percent]\n",
       "Index: []"
      ]
     },
     "execution_count": 420,
     "metadata": {},
     "output_type": "execute_result"
    }
   ],
   "source": [
    "test_data.dropna(how = 'all', inplace=True)\n",
    "missing_percentage(test_data)"
   ]
  },
  {
   "cell_type": "code",
   "execution_count": 421,
   "metadata": {},
   "outputs": [
    {
     "data": {
      "text/html": [
       "<div>\n",
       "<style scoped>\n",
       "    .dataframe tbody tr th:only-of-type {\n",
       "        vertical-align: middle;\n",
       "    }\n",
       "\n",
       "    .dataframe tbody tr th {\n",
       "        vertical-align: top;\n",
       "    }\n",
       "\n",
       "    .dataframe thead th {\n",
       "        text-align: right;\n",
       "    }\n",
       "</style>\n",
       "<table border=\"1\" class=\"dataframe\">\n",
       "  <thead>\n",
       "    <tr style=\"text-align: right;\">\n",
       "      <th></th>\n",
       "      <th>Gender</th>\n",
       "      <th>Age</th>\n",
       "      <th>Education_Level</th>\n",
       "      <th>Relationship_Status</th>\n",
       "      <th>Unit</th>\n",
       "      <th>Decision_skill_possess</th>\n",
       "      <th>Time_of_service</th>\n",
       "      <th>Time_since_promotion</th>\n",
       "      <th>growth_rate</th>\n",
       "      <th>Travel_Rate</th>\n",
       "      <th>...</th>\n",
       "      <th>Pay_Scale</th>\n",
       "      <th>Compensation_and_Benefits</th>\n",
       "      <th>Work_Life_balance</th>\n",
       "      <th>VAR1</th>\n",
       "      <th>VAR2</th>\n",
       "      <th>VAR3</th>\n",
       "      <th>VAR4</th>\n",
       "      <th>VAR5</th>\n",
       "      <th>VAR6</th>\n",
       "      <th>VAR7</th>\n",
       "    </tr>\n",
       "  </thead>\n",
       "  <tbody>\n",
       "    <tr>\n",
       "      <th>0</th>\n",
       "      <td>F</td>\n",
       "      <td>32.0</td>\n",
       "      <td>5</td>\n",
       "      <td>Single</td>\n",
       "      <td>R&amp;D</td>\n",
       "      <td>Conceptual</td>\n",
       "      <td>7</td>\n",
       "      <td>4</td>\n",
       "      <td>30</td>\n",
       "      <td>1</td>\n",
       "      <td>...</td>\n",
       "      <td>4</td>\n",
       "      <td>type2</td>\n",
       "      <td>1</td>\n",
       "      <td>3</td>\n",
       "      <td>-0.9612</td>\n",
       "      <td>-0.4537</td>\n",
       "      <td>2.0</td>\n",
       "      <td>1</td>\n",
       "      <td>8</td>\n",
       "      <td>4</td>\n",
       "    </tr>\n",
       "    <tr>\n",
       "      <th>1</th>\n",
       "      <td>M</td>\n",
       "      <td>65.0</td>\n",
       "      <td>2</td>\n",
       "      <td>Single</td>\n",
       "      <td>IT</td>\n",
       "      <td>Directive</td>\n",
       "      <td>41</td>\n",
       "      <td>2</td>\n",
       "      <td>72</td>\n",
       "      <td>1</td>\n",
       "      <td>...</td>\n",
       "      <td>1</td>\n",
       "      <td>type2</td>\n",
       "      <td>1</td>\n",
       "      <td>4</td>\n",
       "      <td>-0.9612</td>\n",
       "      <td>0.7075</td>\n",
       "      <td>1.0</td>\n",
       "      <td>2</td>\n",
       "      <td>8</td>\n",
       "      <td>2</td>\n",
       "    </tr>\n",
       "    <tr>\n",
       "      <th>2</th>\n",
       "      <td>M</td>\n",
       "      <td>52.0</td>\n",
       "      <td>3</td>\n",
       "      <td>Married</td>\n",
       "      <td>Sales</td>\n",
       "      <td>Directive</td>\n",
       "      <td>21</td>\n",
       "      <td>3</td>\n",
       "      <td>25</td>\n",
       "      <td>0</td>\n",
       "      <td>...</td>\n",
       "      <td>8</td>\n",
       "      <td>type3</td>\n",
       "      <td>1</td>\n",
       "      <td>4</td>\n",
       "      <td>-0.1048</td>\n",
       "      <td>0.7075</td>\n",
       "      <td>2.0</td>\n",
       "      <td>1</td>\n",
       "      <td>9</td>\n",
       "      <td>3</td>\n",
       "    </tr>\n",
       "    <tr>\n",
       "      <th>3</th>\n",
       "      <td>M</td>\n",
       "      <td>50.0</td>\n",
       "      <td>5</td>\n",
       "      <td>Single</td>\n",
       "      <td>Marketing</td>\n",
       "      <td>Analytical</td>\n",
       "      <td>11</td>\n",
       "      <td>4</td>\n",
       "      <td>28</td>\n",
       "      <td>1</td>\n",
       "      <td>...</td>\n",
       "      <td>2</td>\n",
       "      <td>type0</td>\n",
       "      <td>4</td>\n",
       "      <td>3</td>\n",
       "      <td>-0.1048</td>\n",
       "      <td>0.7075</td>\n",
       "      <td>2.0</td>\n",
       "      <td>2</td>\n",
       "      <td>8</td>\n",
       "      <td>3</td>\n",
       "    </tr>\n",
       "    <tr>\n",
       "      <th>4</th>\n",
       "      <td>F</td>\n",
       "      <td>44.0</td>\n",
       "      <td>3</td>\n",
       "      <td>Married</td>\n",
       "      <td>R&amp;D</td>\n",
       "      <td>Conceptual</td>\n",
       "      <td>12</td>\n",
       "      <td>4</td>\n",
       "      <td>47</td>\n",
       "      <td>1</td>\n",
       "      <td>...</td>\n",
       "      <td>2</td>\n",
       "      <td>type2</td>\n",
       "      <td>4</td>\n",
       "      <td>4</td>\n",
       "      <td>1.6081</td>\n",
       "      <td>0.7075</td>\n",
       "      <td>2.0</td>\n",
       "      <td>2</td>\n",
       "      <td>7</td>\n",
       "      <td>4</td>\n",
       "    </tr>\n",
       "  </tbody>\n",
       "</table>\n",
       "<p>5 rows × 21 columns</p>\n",
       "</div>"
      ],
      "text/plain": [
       "  Gender   Age  Education_Level Relationship_Status       Unit  \\\n",
       "0      F  32.0                5              Single        R&D   \n",
       "1      M  65.0                2              Single         IT   \n",
       "2      M  52.0                3             Married      Sales   \n",
       "3      M  50.0                5              Single  Marketing   \n",
       "4      F  44.0                3             Married        R&D   \n",
       "\n",
       "  Decision_skill_possess Time_of_service  Time_since_promotion  growth_rate  \\\n",
       "0             Conceptual               7                     4           30   \n",
       "1              Directive              41                     2           72   \n",
       "2              Directive              21                     3           25   \n",
       "3             Analytical              11                     4           28   \n",
       "4             Conceptual              12                     4           47   \n",
       "\n",
       "   Travel_Rate  ...  Pay_Scale Compensation_and_Benefits Work_Life_balance  \\\n",
       "0            1  ...          4                     type2                 1   \n",
       "1            1  ...          1                     type2                 1   \n",
       "2            0  ...          8                     type3                 1   \n",
       "3            1  ...          2                     type0                 4   \n",
       "4            1  ...          2                     type2                 4   \n",
       "\n",
       "  VAR1    VAR2    VAR3  VAR4  VAR5  VAR6  VAR7  \n",
       "0    3 -0.9612 -0.4537   2.0     1     8     4  \n",
       "1    4 -0.9612  0.7075   1.0     2     8     2  \n",
       "2    4 -0.1048  0.7075   2.0     1     9     3  \n",
       "3    3 -0.1048  0.7075   2.0     2     8     3  \n",
       "4    4  1.6081  0.7075   2.0     2     7     4  \n",
       "\n",
       "[5 rows x 21 columns]"
      ]
     },
     "execution_count": 421,
     "metadata": {},
     "output_type": "execute_result"
    }
   ],
   "source": [
    "employee_id = pd.DataFrame(test_data['Employee_ID'])\n",
    "test_data.drop(['Employee_ID', 'Hometown'], axis = 1, inplace = True)\n",
    "test_data.head()"
   ]
  },
  {
   "cell_type": "code",
   "execution_count": 422,
   "metadata": {},
   "outputs": [
    {
     "name": "stdout",
     "output_type": "stream",
     "text": [
      "Shape  (3000, 92)\n"
     ]
    }
   ],
   "source": [
    "# one hot encoding\n",
    "\n",
    "data_prep_test = pd.get_dummies(test_data, drop_first=True)\n",
    "print(\"Shape \", data_prep_test.shape)"
   ]
  },
  {
   "cell_type": "code",
   "execution_count": 430,
   "metadata": {},
   "outputs": [],
   "source": [
    "Y_test_predict = pd.DataFrame(std_reg.predict(data_prep_test), columns=['Attrition_rate'])"
   ]
  },
  {
   "cell_type": "code",
   "execution_count": 431,
   "metadata": {},
   "outputs": [
    {
     "data": {
      "text/html": [
       "<div>\n",
       "<style scoped>\n",
       "    .dataframe tbody tr th:only-of-type {\n",
       "        vertical-align: middle;\n",
       "    }\n",
       "\n",
       "    .dataframe tbody tr th {\n",
       "        vertical-align: top;\n",
       "    }\n",
       "\n",
       "    .dataframe thead th {\n",
       "        text-align: right;\n",
       "    }\n",
       "</style>\n",
       "<table border=\"1\" class=\"dataframe\">\n",
       "  <thead>\n",
       "    <tr style=\"text-align: right;\">\n",
       "      <th></th>\n",
       "      <th>Employee_ID</th>\n",
       "    </tr>\n",
       "  </thead>\n",
       "  <tbody>\n",
       "    <tr>\n",
       "      <th>0</th>\n",
       "      <td>EID_22713</td>\n",
       "    </tr>\n",
       "    <tr>\n",
       "      <th>1</th>\n",
       "      <td>EID_9658</td>\n",
       "    </tr>\n",
       "    <tr>\n",
       "      <th>2</th>\n",
       "      <td>EID_22203</td>\n",
       "    </tr>\n",
       "    <tr>\n",
       "      <th>3</th>\n",
       "      <td>EID_7652</td>\n",
       "    </tr>\n",
       "    <tr>\n",
       "      <th>4</th>\n",
       "      <td>EID_6516</td>\n",
       "    </tr>\n",
       "    <tr>\n",
       "      <th>...</th>\n",
       "      <td>...</td>\n",
       "    </tr>\n",
       "    <tr>\n",
       "      <th>2995</th>\n",
       "      <td>EID_22547</td>\n",
       "    </tr>\n",
       "    <tr>\n",
       "      <th>2996</th>\n",
       "      <td>EID_10066</td>\n",
       "    </tr>\n",
       "    <tr>\n",
       "      <th>2997</th>\n",
       "      <td>EID_7126</td>\n",
       "    </tr>\n",
       "    <tr>\n",
       "      <th>2998</th>\n",
       "      <td>EID_4929</td>\n",
       "    </tr>\n",
       "    <tr>\n",
       "      <th>2999</th>\n",
       "      <td>EID_24750</td>\n",
       "    </tr>\n",
       "  </tbody>\n",
       "</table>\n",
       "<p>3000 rows × 1 columns</p>\n",
       "</div>"
      ],
      "text/plain": [
       "     Employee_ID\n",
       "0      EID_22713\n",
       "1       EID_9658\n",
       "2      EID_22203\n",
       "3       EID_7652\n",
       "4       EID_6516\n",
       "...          ...\n",
       "2995   EID_22547\n",
       "2996   EID_10066\n",
       "2997    EID_7126\n",
       "2998    EID_4929\n",
       "2999   EID_24750\n",
       "\n",
       "[3000 rows x 1 columns]"
      ]
     },
     "execution_count": 431,
     "metadata": {},
     "output_type": "execute_result"
    }
   ],
   "source": [
    "employee_id"
   ]
  },
  {
   "cell_type": "code",
   "execution_count": 432,
   "metadata": {},
   "outputs": [
    {
     "name": "stdout",
     "output_type": "stream",
     "text": [
      "     Employee_ID  Attrition_rate\n",
      "0      EID_22713        0.207877\n",
      "1       EID_9658        0.116650\n",
      "2      EID_22203        0.197686\n",
      "3       EID_7652        0.249347\n",
      "4       EID_6516        0.226190\n",
      "...          ...             ...\n",
      "2995   EID_22547        0.206863\n",
      "2996   EID_10066        0.161614\n",
      "2997    EID_7126        0.144629\n",
      "2998    EID_4929        0.109381\n",
      "2999   EID_24750        0.211072\n",
      "\n",
      "[3000 rows x 2 columns]\n"
     ]
    }
   ],
   "source": [
    "df_submission = pd.merge(employee_id, Y_test_predict, left_index=True, right_index=True)\n",
    "\n",
    "print(df_submission)"
   ]
  },
  {
   "cell_type": "code",
   "execution_count": 434,
   "metadata": {},
   "outputs": [],
   "source": [
    "df_submission.to_csv(\"Submission.csv\", index = False)"
   ]
  },
  {
   "cell_type": "code",
   "execution_count": null,
   "metadata": {},
   "outputs": [],
   "source": []
  }
 ],
 "metadata": {
  "kernelspec": {
   "display_name": "Python 3",
   "language": "python",
   "name": "python3"
  },
  "language_info": {
   "codemirror_mode": {
    "name": "ipython",
    "version": 3
   },
   "file_extension": ".py",
   "mimetype": "text/x-python",
   "name": "python",
   "nbconvert_exporter": "python",
   "pygments_lexer": "ipython3",
   "version": "3.8.3"
  }
 },
 "nbformat": 4,
 "nbformat_minor": 4
}
